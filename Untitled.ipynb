{
 "cells": [
  {
   "cell_type": "code",
   "execution_count": 12,
   "id": "d3948872",
   "metadata": {},
   "outputs": [],
   "source": [
    "#Import dependencies\n",
    "from pymongo import MongoClient\n",
    "import json\n",
    "import requests\n",
    "from pprint import pprint\n",
    "import pandas as pd"
   ]
  },
  {
   "cell_type": "code",
   "execution_count": 13,
   "id": "5c0ffcd1",
   "metadata": {},
   "outputs": [],
   "source": [
    "df = pd.read_csv(\"./Resources/insurance.csv\")"
   ]
  },
  {
   "cell_type": "code",
   "execution_count": 14,
   "id": "a82c0a64",
   "metadata": {},
   "outputs": [],
   "source": [
    "#Create an instance of MongoClient\n",
    "mongo = MongoClient(port=27017)"
   ]
  },
  {
   "cell_type": "code",
   "execution_count": 15,
   "id": "3ec4fdeb",
   "metadata": {},
   "outputs": [],
   "source": [
    "#assign the insurance database to a variable name\n",
    "db = mongo['insurance']"
   ]
  },
  {
   "cell_type": "code",
   "execution_count": 16,
   "id": "730dc74a",
   "metadata": {},
   "outputs": [],
   "source": [
    "insurance_data = db['data']"
   ]
  },
  {
   "cell_type": "code",
   "execution_count": 17,
   "id": "2d823409",
   "metadata": {},
   "outputs": [
    {
     "data": {
      "text/plain": [
       "<pymongo.results.InsertManyResult at 0x283e41de940>"
      ]
     },
     "execution_count": 17,
     "metadata": {},
     "output_type": "execute_result"
    }
   ],
   "source": [
    "# Convert the Pandas DataFrame to a list of dictionaries\n",
    "data_list = df.to_dict(orient='records')\n",
    "\n",
    "# Insert the data into the 'data' collection\n",
    "insurance_data.insert_many(data_list)"
   ]
  }
 ],
 "metadata": {
  "kernelspec": {
   "display_name": "dev",
   "language": "python",
   "name": "dev"
  },
  "language_info": {
   "codemirror_mode": {
    "name": "ipython",
    "version": 3
   },
   "file_extension": ".py",
   "mimetype": "text/x-python",
   "name": "python",
   "nbconvert_exporter": "python",
   "pygments_lexer": "ipython3",
   "version": "3.10.12"
  }
 },
 "nbformat": 4,
 "nbformat_minor": 5
}
