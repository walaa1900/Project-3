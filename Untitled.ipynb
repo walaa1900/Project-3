{
 "cells": [
  {
   "cell_type": "code",
   "execution_count": 1,
   "id": "d3948872",
   "metadata": {},
   "outputs": [],
   "source": [
    "#Import dependencies\n",
    "from pymongo import MongoClient\n",
    "import json\n",
    "import requests\n",
    "from pprint import pprint\n"
   ]
  },
  {
   "cell_type": "code",
   "execution_count": 2,
   "id": "a82c0a64",
   "metadata": {},
   "outputs": [],
   "source": [
    "#Create an instance of MongoClient\n",
    "mongo = MongoClient(port=27017)"
   ]
  },
  {
   "cell_type": "code",
   "execution_count": 3,
   "id": "3ec4fdeb",
   "metadata": {},
   "outputs": [],
   "source": [
    "#assign the insurance database to a variable name\n",
    "db = mongo['insruance']"
   ]
  },
  {
   "cell_type": "code",
   "execution_count": 5,
   "id": "730dc74a",
   "metadata": {},
   "outputs": [],
   "source": [
    "insurance_data = db['data']"
   ]
  },
  {
   "cell_type": "code",
   "execution_count": 7,
   "id": "2d823409",
   "metadata": {},
   "outputs": [
    {
     "ename": "SyntaxError",
     "evalue": "invalid syntax (1408710675.py, line 1)",
     "output_type": "error",
     "traceback": [
      "\u001b[1;36m  Cell \u001b[1;32mIn[7], line 1\u001b[1;36m\u001b[0m\n\u001b[1;33m    url = http://127.0.0.1:5000/insurance_data\u001b[0m\n\u001b[1;37m              ^\u001b[0m\n\u001b[1;31mSyntaxError\u001b[0m\u001b[1;31m:\u001b[0m invalid syntax\n"
     ]
    }
   ],
   "source": [
    "url = http://127.0.0.1:5000/insurance_data"
   ]
  }
 ],
 "metadata": {
  "kernelspec": {
   "display_name": "dev",
   "language": "python",
   "name": "dev"
  },
  "language_info": {
   "codemirror_mode": {
    "name": "ipython",
    "version": 3
   },
   "file_extension": ".py",
   "mimetype": "text/x-python",
   "name": "python",
   "nbconvert_exporter": "python",
   "pygments_lexer": "ipython3",
   "version": "3.10.12"
  }
 },
 "nbformat": 4,
 "nbformat_minor": 5
}
